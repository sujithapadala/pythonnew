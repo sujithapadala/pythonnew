{
  "nbformat": 4,
  "nbformat_minor": 0,
  "metadata": {
    "colab": {
      "name": "Module1_.ipynb",
      "provenance": [],
      "include_colab_link": true
    },
    "kernelspec": {
      "name": "python3",
      "display_name": "Python 3"
    },
    "language_info": {
      "name": "python"
    }
  },
  "cells": [
    {
      "cell_type": "markdown",
      "metadata": {
        "id": "view-in-github",
        "colab_type": "text"
      },
      "source": [
        "<a href=\"https://colab.research.google.com/github/sujithapadala/pythonnew/blob/module-1/Module1_.ipynb\" target=\"_parent\"><img src=\"https://colab.research.google.com/assets/colab-badge.svg\" alt=\"Open In Colab\"/></a>"
      ]
    },
    {
      "cell_type": "code",
      "execution_count": null,
      "metadata": {
        "colab": {
          "base_uri": "https://localhost:8080/"
        },
        "id": "Ygj19xPgl8uM",
        "outputId": "3dec2fd7-68ad-4570-b608-1609b8e7acee"
      },
      "outputs": [
        {
          "output_type": "stream",
          "name": "stdout",
          "text": [
            "enter any number:7\n",
            "7\n"
          ]
        }
      ],
      "source": [
        "# user input\n",
        "user_input=int(input(\"enter any number:\"))\n",
        "print(user_input)"
      ]
    },
    {
      "cell_type": "code",
      "source": [
        "#Use of print statements and use of (.format )for printing different data types.\n",
        "age= 19 \n",
        "name= \"avinash\"\n",
        "string=\"i am {} and im {} old \"\n",
        "print(string.format(name,age))"
      ],
      "metadata": {
        "colab": {
          "base_uri": "https://localhost:8080/"
        },
        "id": "Q4EgpSqqmVQz",
        "outputId": "9ca53857-5d87-49e9-9aa9-44cbcb0a5e9b"
      },
      "execution_count": null,
      "outputs": [
        {
          "output_type": "stream",
          "name": "stdout",
          "text": [
            "i am avinash and im 19 old \n"
          ]
        }
      ]
    },
    {
      "cell_type": "code",
      "source": [
        "#Take 2 numbers as user input and add, multiply, divide, subtract, remainder and print\n",
        "#the output (Same operations on floating point input as well)\n",
        "a=float(input(\"enter a number\"))\n",
        "b=float(input(\"enter a number\"))\n",
        "c=a+b\n",
        "d=a-b\n",
        "e=a*b\n",
        "f=a/b\n",
        "g=a%b\n",
        "print(\"sum= \",c)\n",
        "print(\"subtract= \",d)\n",
        "print(\"product= \",e)\n",
        "print(\"division= \",f)\n",
        "print(\"remainder= \",g)"
      ],
      "metadata": {
        "colab": {
          "base_uri": "https://localhost:8080/"
        },
        "id": "plBIvgzwmWIY",
        "outputId": "ee911d4c-9fb1-4b99-d413-2e63eebd9449"
      },
      "execution_count": null,
      "outputs": [
        {
          "output_type": "stream",
          "name": "stdout",
          "text": [
            "enter a number10\n",
            "enter a number10\n",
            "sum=  20.0\n",
            "subtract=  0.0\n",
            "product=  100.0\n",
            "division=  1.0\n",
            "remainder=  0.0\n"
          ]
        }
      ]
    },
    {
      "cell_type": "code",
      "source": [
        "#Conversion of one unit to another (such as hours to minutes, miles to km and etc)\n",
        "a=float(input(\"enter hours\"))\n",
        "print(\"hours to minutes = \",a*60)\n",
        "b=float(input(\"enter miles\"))\n",
        "print(\"miles to km = \",b*1.6)"
      ],
      "metadata": {
        "colab": {
          "base_uri": "https://localhost:8080/"
        },
        "id": "9__EJ9VAoRbQ",
        "outputId": "3487b590-a42f-43fc-9345-dd49603f623c"
      },
      "execution_count": null,
      "outputs": [
        {
          "output_type": "stream",
          "name": "stdout",
          "text": [
            "enter hours2\n",
            "hours to minutes =  120.0\n",
            "enter miles78\n",
            "miles to km =  124.80000000000001\n"
          ]
        }
      ]
    },
    {
      "cell_type": "code",
      "source": [
        "#Usage of mathematical functions in python like math.ceil, floor, fabs, fmod, trunc,\n",
        "#pow, sqrt etc\n",
        "import math\n",
        "a=float(input(\"enter a number \"))\n",
        "print(math.ceil(a))\n",
        "print(math.floor(a))\n",
        "print(math.fabs(a))\n",
        "print(math.trunc(a))\n",
        "print(math.sqrt(a))\n",
        "b=float(input(\"enter a number\"))\n",
        "c=float(input(\"enter a number \"))\n",
        "print(math.fmod(b,c))\n",
        "print(math.pow(b,c))"
      ],
      "metadata": {
        "colab": {
          "base_uri": "https://localhost:8080/"
        },
        "id": "BUo8dzfqopVC",
        "outputId": "9ebfe32c-4d69-4371-bd37-d3495f8d47d3"
      },
      "execution_count": null,
      "outputs": [
        {
          "output_type": "stream",
          "name": "stdout",
          "text": [
            "enter a number 5.6\n",
            "6\n",
            "5\n",
            "5.6\n",
            "5\n",
            "2.3664319132398464\n",
            "enter a number2\n",
            "enter a number 5\n",
            "2.0\n",
            "32.0\n"
          ]
        }
      ]
    },
    {
      "cell_type": "code",
      "source": [
        "#Building a mathematical calculator that can perform operations according to user input.Use decision making statement.\n",
        "operation=(input('enter any operation'))\n",
        "if operation=='+':\n",
        "   a=int(input('enter any number'))\n",
        "   b=int(input('enter any number'))\n",
        "   print(a+b)\n",
        "elif operation=='-':\n",
        "    a=int(input('enter any number'))\n",
        "    b=int(input('enter any number'))\n",
        "    print(a-b)\n",
        "\n",
        "elif operation=='*':\n",
        "    a=int(input('enter any number'))\n",
        "    b=int(input('enter any number'))\n",
        "    print(a*b)\n",
        "elif operation=='-':\n",
        "    a=int(input('enter any number'))\n",
        "    b=int(input('enter any number'))\n",
        "    print(a/b)\n",
        "else:\n",
        "    print('wrong choice')"
      ],
      "metadata": {
        "id": "nnt7RIfapI98",
        "colab": {
          "base_uri": "https://localhost:8080/"
        },
        "outputId": "86935fee-fabc-409d-ac67-953263a631f4"
      },
      "execution_count": null,
      "outputs": [
        {
          "output_type": "stream",
          "name": "stdout",
          "text": [
            "enter any operation*\n",
            "enter any number4\n",
            "enter any number5\n",
            "20\n"
          ]
        }
      ]
    },
    {
      "cell_type": "code",
      "source": [
        "#accepting 5 different subject marks from user and displaying the grade of the student\n",
        "marks1=float(input(\"enter marks\"))\n",
        "marks2=float(input(\"enter marks\"))\n",
        "marks3=float(input(\"enter marks\"))\n",
        "marks4=float(input(\"enter marks\"))\n",
        "marks5=float(input(\"enter marks\"))\n",
        "avg=(s1+s2+s3+s4+s5)/5\n",
        "if avg>=90:\n",
        "  print(\"A Grade\")\n",
        "elif avg>=80:\n",
        "  print(\"B Grade\")\n",
        "elif avg>=70:\n",
        "  print(\"C Grade\")\n",
        "elif avg>=60:\n",
        "  print(\"D Grade\")\n",
        "else:\n",
        "  print(\"FAIL\")"
      ],
      "metadata": {
        "colab": {
          "base_uri": "https://localhost:8080/"
        },
        "id": "muwrS1X3pgI9",
        "outputId": "9380426e-5b0e-4c16-d397-82ed42e9edf4"
      },
      "execution_count": null,
      "outputs": [
        {
          "output_type": "stream",
          "name": "stdout",
          "text": [
            "enter marks98\n",
            "enter marks97\n",
            "enter marks96\n",
            "enter marks99\n",
            "enter marks100\n",
            "A Grade\n"
          ]
        }
      ]
    },
    {
      "cell_type": "code",
      "source": [
        "#Printing all even numbers, odd numbers, count of even numbers, count of odd numbers\n",
        "#within a given range.\n",
        "number=int(input(\"enter range \"))\n",
        "prime_number=0\n",
        "for i in range(1,number+1):\n",
        " if i%2==0:\n",
        "   prime_number+=1\n",
        "   print(i)\n",
        "print(\"count of even numbers  \",prime_number)\n",
        "odd_number=0\n",
        "for i in range(1,number+1):\n",
        "  if i%2!=0: \n",
        "    odd_number+=1\n",
        "    print(i)\n",
        "print(\"count of odd numbers  \",odd_number)"
      ],
      "metadata": {
        "colab": {
          "base_uri": "https://localhost:8080/"
        },
        "id": "O2iRhyZvqcsw",
        "outputId": "d362a0e4-ae06-4171-9e44-6f6f05247e23"
      },
      "execution_count": null,
      "outputs": [
        {
          "output_type": "stream",
          "name": "stdout",
          "text": [
            "enter range 100\n",
            "2\n",
            "4\n",
            "6\n",
            "8\n",
            "10\n",
            "12\n",
            "14\n",
            "16\n",
            "18\n",
            "20\n",
            "22\n",
            "24\n",
            "26\n",
            "28\n",
            "30\n",
            "32\n",
            "34\n",
            "36\n",
            "38\n",
            "40\n",
            "42\n",
            "44\n",
            "46\n",
            "48\n",
            "50\n",
            "52\n",
            "54\n",
            "56\n",
            "58\n",
            "60\n",
            "62\n",
            "64\n",
            "66\n",
            "68\n",
            "70\n",
            "72\n",
            "74\n",
            "76\n",
            "78\n",
            "80\n",
            "82\n",
            "84\n",
            "86\n",
            "88\n",
            "90\n",
            "92\n",
            "94\n",
            "96\n",
            "98\n",
            "100\n",
            "count of even numbers   50\n",
            "1\n",
            "3\n",
            "5\n",
            "7\n",
            "9\n",
            "11\n",
            "13\n",
            "15\n",
            "17\n",
            "19\n",
            "21\n",
            "23\n",
            "25\n",
            "27\n",
            "29\n",
            "31\n",
            "33\n",
            "35\n",
            "37\n",
            "39\n",
            "41\n",
            "43\n",
            "45\n",
            "47\n",
            "49\n",
            "51\n",
            "53\n",
            "55\n",
            "57\n",
            "59\n",
            "61\n",
            "63\n",
            "65\n",
            "67\n",
            "69\n",
            "71\n",
            "73\n",
            "75\n",
            "77\n",
            "79\n",
            "81\n",
            "83\n",
            "85\n",
            "87\n",
            "89\n",
            "91\n",
            "93\n",
            "95\n",
            "97\n",
            "99\n",
            "count of odd numbers   50\n"
          ]
        }
      ]
    },
    {
      "cell_type": "code",
      "source": [
        "#Compute the factorial of a given number.\n",
        "n=int(input(\"enter a number \"))\n",
        "factorial=1\n",
        "for i in range(1,n+1):\n",
        "  factorial=factorial*i\n",
        "\n",
        "print(factorial)"
      ],
      "metadata": {
        "colab": {
          "base_uri": "https://localhost:8080/"
        },
        "id": "6cc9WUG0rfSa",
        "outputId": "0c635ec1-e35a-4fec-86db-9c6c50ebe48a"
      },
      "execution_count": null,
      "outputs": [
        {
          "output_type": "stream",
          "name": "stdout",
          "text": [
            "enter a number 6\n",
            "720\n"
          ]
        }
      ]
    },
    {
      "cell_type": "code",
      "source": [
        "#Compute GCD of two given \n",
        "a=int(input(\"enter a number\"))\n",
        "b=int(input(\"enter a number\"))\n",
        "k=a if a<b else b\n",
        "while True:\n",
        "    if a%k==0 and b%k==0:\n",
        "     break\n",
        "    k -=1\n",
        "print(k)\n"
      ],
      "metadata": {
        "colab": {
          "base_uri": "https://localhost:8080/"
        },
        "id": "ZGlPs5sIvvKo",
        "outputId": "307de6ee-433c-43fe-9d2e-c1fc3bd2b1eb"
      },
      "execution_count": null,
      "outputs": [
        {
          "output_type": "stream",
          "name": "stdout",
          "text": [
            "enter a number7\n",
            "enter a number9\n",
            "1\n"
          ]
        }
      ]
    },
    {
      "cell_type": "code",
      "source": [
        "#fibanocci series\n",
        "n=int(input(\"enter a number \"))\n",
        "a=0\n",
        "b=1\n",
        "print(a,b, end =\" \")\n",
        "for i in range(n-2):\n",
        "  c=a+b\n",
        "  print(c, end=\" \")\n",
        "  a=b\n",
        "  b=c\n",
        "\n"
      ],
      "metadata": {
        "id": "P-mKKccacOII",
        "outputId": "68458e5a-c5d8-47cb-a71b-0c5a14bf947f",
        "colab": {
          "base_uri": "https://localhost:8080/"
        }
      },
      "execution_count": null,
      "outputs": [
        {
          "output_type": "stream",
          "name": "stdout",
          "text": [
            "enter a number 5\n",
            "0 1 1 2 3 "
          ]
        }
      ]
    },
    {
      "cell_type": "code",
      "source": [
        "# palindrome\n",
        "a=int(input(\"enter a number: \"))\n",
        "temp=a\n",
        "reverse=0\n",
        "while(a!=0):\n",
        "  r=a%10\n",
        "  reverse=reverse*10+r\n",
        "  a=a//10\n",
        "print(reverse)\n",
        "if(reverse==temp):\n",
        "  print(\"it is a palindrome\")\n",
        "else:\n",
        "  print(\"it is not a palindome\")"
      ],
      "metadata": {
        "colab": {
          "base_uri": "https://localhost:8080/"
        },
        "id": "qcHUPHeLwTyh",
        "outputId": "abd26bef-59cd-403d-e7a3-d47d3ee8dc26"
      },
      "execution_count": null,
      "outputs": [
        {
          "output_type": "stream",
          "name": "stdout",
          "text": [
            "enter a number: 454\n",
            "454\n",
            "it is a palindrome\n"
          ]
        }
      ]
    },
    {
      "cell_type": "code",
      "source": [
        "\n",
        "#strong number\n",
        "number=int(input(\"enter a number: \"))\n",
        "temp=n\n",
        "sum=0\n",
        "while(number !=0):\n",
        "  r=number%10\n",
        "  f=1\n",
        "  while(r !=1):\n",
        "    f=f*r\n",
        "    r=r-1\n",
        "  sum=sum+f\n",
        "  number=number//10\n",
        "if(sum==temp):\n",
        "  print(\"it is a strong number\")\n",
        "else:\n",
        "  print(\"it is not a strong number\")\n"
      ],
      "metadata": {
        "colab": {
          "base_uri": "https://localhost:8080/"
        },
        "id": "RX_GvaiPw7BG",
        "outputId": "fbc22833-1ca4-429e-c9cb-901c6a8c4a69"
      },
      "execution_count": null,
      "outputs": [
        {
          "output_type": "stream",
          "name": "stdout",
          "text": [
            "enter a number: 789\n",
            "it is not a strong number\n"
          ]
        }
      ]
    },
    {
      "cell_type": "code",
      "source": [
        "# perfect number\n",
        "n=int(input(\"enter a number: \"))\n",
        "s=0\n",
        "for i in range(1,(n//2+1)):\n",
        "  if n%i == 0:\n",
        "    s+=i\n",
        "\n",
        "if(s == n):\n",
        "  print(\"perfect number\")\n",
        "else:\n",
        "  print(\"not a perfect number\")"
      ],
      "metadata": {
        "colab": {
          "base_uri": "https://localhost:8080/"
        },
        "id": "w3GWIiLfxRLg",
        "outputId": "abe0c94a-8234-4eb7-f38d-15641b19e6a3"
      },
      "execution_count": null,
      "outputs": [
        {
          "output_type": "stream",
          "name": "stdout",
          "text": [
            "enter a number: 6\n",
            "perfect number\n"
          ]
        }
      ]
    },
    {
      "cell_type": "code",
      "source": [
        "#compound interest\n",
        "p=int(input(\" enter Amount :\"))\n",
        "r=int(input(\" enter rate :\"))\n",
        "t=int(input(\" enter time :\"))\n",
        "C=p*pow(1+r/100,t)-p\n",
        "print(\"compound intrest :\",C)"
      ],
      "metadata": {
        "colab": {
          "base_uri": "https://localhost:8080/"
        },
        "id": "9EGTWrEoxbTN",
        "outputId": "52eb960f-04d6-4282-f157-cf81423e196a"
      },
      "execution_count": null,
      "outputs": [
        {
          "output_type": "stream",
          "name": "stdout",
          "text": [
            " enter Amount :5000\n",
            " enter rate :2\n",
            " enter time :1\n",
            "compound intrest : 100.0\n"
          ]
        }
      ]
    }
  ]
}